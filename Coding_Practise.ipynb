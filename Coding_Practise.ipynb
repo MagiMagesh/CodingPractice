{
  "nbformat": 4,
  "nbformat_minor": 0,
  "metadata": {
    "colab": {
      "provenance": []
    },
    "kernelspec": {
      "name": "python3",
      "display_name": "Python 3"
    },
    "language_info": {
      "name": "python"
    }
  },
  "cells": [
    {
      "cell_type": "markdown",
      "source": [
        "### pattern problem\n"
      ],
      "metadata": {
        "id": "1yuwhwGznR49"
      }
    },
    {
      "cell_type": "markdown",
      "source": [
        "#### Q1. priyamid pattern"
      ],
      "metadata": {
        "id": "1tI0LsLdnVbD"
      }
    },
    {
      "cell_type": "code",
      "execution_count": null,
      "metadata": {
        "colab": {
          "base_uri": "https://localhost:8080/"
        },
        "id": "x6EmsHlMd5WL",
        "outputId": "20151e84-77c1-47b7-8001-687fe8946700"
      },
      "outputs": [
        {
          "output_type": "stream",
          "name": "stdout",
          "text": [
            "    *    \n",
            "   ***   \n",
            "  *****  \n",
            " ******* \n",
            "*********\n"
          ]
        }
      ],
      "source": [
        "n = 5\n",
        "i = 1\n",
        "m= n\n",
        "while m > 0:\n",
        "  print(f\"{(n-1)*' '}{(i)*'*'}{(n-1)*' '}\")\n",
        "  i = i+2\n",
        "  n = n-1\n",
        "  m=m-1"
      ]
    },
    {
      "cell_type": "code",
      "source": [
        "n = 5\n",
        "i = 0\n",
        "while i < n:\n",
        "  print(\"{}{}{}\".format(((n-1)-i)*' ',(i*2+1)*'*',((n-1)-i)*' '))\n",
        "  i=i+1"
      ],
      "metadata": {
        "colab": {
          "base_uri": "https://localhost:8080/"
        },
        "id": "GiHKqAysj4Or",
        "outputId": "3dd570b2-9343-4afe-b6c0-f76ae632086b"
      },
      "execution_count": null,
      "outputs": [
        {
          "output_type": "stream",
          "name": "stdout",
          "text": [
            "    *    \n",
            "   ***   \n",
            "  *****  \n",
            " ******* \n",
            "*********\n"
          ]
        }
      ]
    },
    {
      "cell_type": "code",
      "source": [],
      "metadata": {
        "id": "fND-rq46nT1G"
      },
      "execution_count": null,
      "outputs": []
    },
    {
      "cell_type": "markdown",
      "source": [
        "#### Q2. Inverted Pyramid"
      ],
      "metadata": {
        "id": "LmDa6BlenZn0"
      }
    },
    {
      "cell_type": "code",
      "source": [
        "*********\n",
        "-*******-\n",
        "--*****--\n",
        "---***---\n",
        "----*----"
      ],
      "metadata": {
        "id": "OaS29C5Onp1Z"
      },
      "execution_count": null,
      "outputs": []
    },
    {
      "cell_type": "code",
      "source": [
        "n = 5\n",
        "i = 0\n",
        "while n > 0:\n",
        "  print(f\"{i*' '}{((n*2)-1) * '*' }{i*' '}\")\n",
        "  n = n-1\n",
        "  i = i+1"
      ],
      "metadata": {
        "colab": {
          "base_uri": "https://localhost:8080/"
        },
        "id": "e0yDRKEgntq5",
        "outputId": "579b5637-9b97-4a7c-a3c9-18071979e177"
      },
      "execution_count": null,
      "outputs": [
        {
          "output_type": "stream",
          "name": "stdout",
          "text": [
            "*********\n",
            " ******* \n",
            "  *****  \n",
            "   ***   \n",
            "    *    \n"
          ]
        }
      ]
    },
    {
      "cell_type": "code",
      "source": [
        "n = 5\n",
        "i = 0\n",
        "while n > 0:\n",
        "  print(\"{}{}{}\".format(i*' ',((n*2)-1) * '*' ,i*' '))\n",
        "  n = n-1\n",
        "  i = i+1"
      ],
      "metadata": {
        "colab": {
          "base_uri": "https://localhost:8080/"
        },
        "id": "RClFX4M0oOnp",
        "outputId": "714df758-41c6-47dc-d14a-81147aada403"
      },
      "execution_count": null,
      "outputs": [
        {
          "output_type": "stream",
          "name": "stdout",
          "text": [
            "*********\n",
            " ******* \n",
            "  *****  \n",
            "   ***   \n",
            "    *    \n"
          ]
        }
      ]
    },
    {
      "cell_type": "markdown",
      "source": [
        "#### Q3. Diamond"
      ],
      "metadata": {
        "id": "Y98HiTWOqUNR"
      }
    },
    {
      "cell_type": "code",
      "source": [
        "# ---*---\n",
        "# --***--\n",
        "# *******\n",
        "# --***--\n",
        "# ---*---\n",
        "\n",
        "#    *\n",
        "#   ***\n",
        "#  *****\n",
        "#   ***\n",
        "#    *\n",
        "\n",
        "\n"
      ],
      "metadata": {
        "id": "g3cwtWJNpx0a"
      },
      "execution_count": null,
      "outputs": []
    },
    {
      "cell_type": "code",
      "source": [
        "n = 5\n",
        "t = (n//2)\n",
        "b = (n-n//2)\n",
        "i = 0\n",
        "while t > 0:\n",
        "  print(\"{}{}{}\".format(t*' ',((i*2)+1)*'*',t*' '))\n",
        "  t = t-1\n",
        "  i = i+1\n",
        "i=0\n",
        "while b > 0:\n",
        "  print(\"{}{}{}\".format(i*' ',((b*2)-1)*'*',i*' '))\n",
        "  b = b-1\n",
        "  i = i+1\n",
        "\n",
        "# 1. i = 1; n = 5 : 2 > 0\n",
        "# 1. i = 3; n = 4 : 2 > 1\n",
        "# 1. i = 5; n = 3 : 1 > 2"
      ],
      "metadata": {
        "colab": {
          "base_uri": "https://localhost:8080/"
        },
        "id": "kjet2mAZqxqz",
        "outputId": "dd931666-aff8-40d6-870a-66242d89600b"
      },
      "execution_count": null,
      "outputs": [
        {
          "output_type": "stream",
          "name": "stdout",
          "text": [
            "  *  \n",
            " *** \n",
            "*****\n",
            " *** \n",
            "  *  \n"
          ]
        }
      ]
    },
    {
      "cell_type": "code",
      "source": [
        "n = 3\n",
        "t = 1\n",
        "b = 1\n",
        "\n",
        "i = 0\n",
        "while n > 0:\n",
        "    print(\"{}{}{}\".format(t*' ',((i*2)-1)*'*',t*' '))\n",
        "    n = n-1\n"
      ],
      "metadata": {
        "colab": {
          "base_uri": "https://localhost:8080/"
        },
        "id": "nf90AjZPrc-W",
        "outputId": "18667a80-5331-445f-e2d2-84cd91257ccb"
      },
      "execution_count": null,
      "outputs": [
        {
          "output_type": "stream",
          "name": "stdout",
          "text": [
            "      \n",
            "  *  \n",
            " *** \n",
            "*****\n",
            " *** \n",
            "  *  \n"
          ]
        }
      ]
    },
    {
      "cell_type": "code",
      "source": [
        "n = 6\n",
        "\n",
        "n1 = n\n",
        "i = 0\n",
        "while i < n1:\n",
        "  print(\"{}{}{}\".format(((n1-1)-i)*' ',(i*2+1)*'*',((n1-1)-i)*' '))\n",
        "  i=i+1\n",
        "\n",
        "n2 = n\n",
        "i = 0\n",
        "while n2 > 0:\n",
        "  print(\"{}{}{}\".format(i*' ',((n2*2)-1) * '*' ,i*' '))\n",
        "  n2 = n2-1\n",
        "  i = i+1"
      ],
      "metadata": {
        "colab": {
          "base_uri": "https://localhost:8080/"
        },
        "id": "5E3xFGzWxyIB",
        "outputId": "faa2c631-b7a4-41d1-f7a3-179736b3e3e6"
      },
      "execution_count": null,
      "outputs": [
        {
          "output_type": "stream",
          "name": "stdout",
          "text": [
            "     *     \n",
            "    ***    \n",
            "   *****   \n",
            "  *******  \n",
            " ********* \n",
            "***********\n",
            "***********\n",
            " ********* \n",
            "  *******  \n",
            "   *****   \n",
            "    ***    \n",
            "     *     \n"
          ]
        }
      ]
    },
    {
      "cell_type": "code",
      "source": [],
      "metadata": {
        "id": "39PGXXUOyscJ"
      },
      "execution_count": null,
      "outputs": []
    },
    {
      "cell_type": "markdown",
      "source": [
        "#### Q4. Starship"
      ],
      "metadata": {
        "id": "m2rDAmkH0BVL"
      }
    },
    {
      "cell_type": "code",
      "source": [
        "n1 = 3\n",
        "\n",
        "n = (n1*2) - 1\n",
        "\n",
        "a = n//2\n",
        "b = n - a\n",
        "\n",
        "for i in range(1,1+a):\n",
        "  print(i*'*')\n",
        "for i in list(range(1,1+b))[::-1]:\n",
        "  print(i*'*')"
      ],
      "metadata": {
        "colab": {
          "base_uri": "https://localhost:8080/"
        },
        "id": "buvlhhce0C-w",
        "outputId": "a2afe97b-6a99-41b7-f905-041f9c170b30"
      },
      "execution_count": null,
      "outputs": [
        {
          "output_type": "stream",
          "name": "stdout",
          "text": [
            "*\n",
            "**\n",
            "***\n",
            "**\n",
            "*\n"
          ]
        }
      ]
    },
    {
      "cell_type": "code",
      "source": [],
      "metadata": {
        "id": "YQtEN4kL0eSa"
      },
      "execution_count": null,
      "outputs": []
    },
    {
      "cell_type": "markdown",
      "source": [
        "#### Q5. Triangle\n",
        "\n"
      ],
      "metadata": {
        "id": "2VnrMeRd_7n8"
      }
    },
    {
      "cell_type": "code",
      "source": [
        "n = 5\n",
        "for i in range(1,1+n):\n",
        "  if i%2:\n",
        "      print(*[0 if j%2==0 else 1 for j in range(1,1+i)])\n",
        "  else:\n",
        "      print(*[0 if j%2==0 else 1 for j in range(i)])"
      ],
      "metadata": {
        "colab": {
          "base_uri": "https://localhost:8080/"
        },
        "id": "5YQ5SdK0_-5C",
        "outputId": "551ac587-70ad-4e4c-eb6a-a33ba8e8c761"
      },
      "execution_count": null,
      "outputs": [
        {
          "output_type": "stream",
          "name": "stdout",
          "text": [
            "1\n",
            "0 1\n",
            "1 0 1\n",
            "0 1 0 1\n",
            "1 0 1 0 1\n"
          ]
        }
      ]
    },
    {
      "cell_type": "code",
      "source": [],
      "metadata": {
        "id": "QsjWYPV9ADfx"
      },
      "execution_count": null,
      "outputs": []
    },
    {
      "cell_type": "markdown",
      "source": [
        "#### Q6. Number Crown Pattern"
      ],
      "metadata": {
        "id": "2069zqQQAwK9"
      }
    },
    {
      "cell_type": "code",
      "source": [
        "1      1\n",
        "12    21\n",
        "123  321\n",
        "12344321"
      ],
      "metadata": {
        "id": "0CyDQz8VAu92"
      },
      "execution_count": null,
      "outputs": []
    },
    {
      "cell_type": "code",
      "source": [
        "1    1\n",
        "12  21\n",
        "123321\n"
      ],
      "metadata": {
        "id": "r18QRkP0BFey"
      },
      "execution_count": null,
      "outputs": []
    },
    {
      "cell_type": "code",
      "source": [
        "n = 10\n",
        "j = 1\n",
        "for i in range(1,n+1):\n",
        "  print(' '*(n-j)+i *'*')\n",
        "  j = j+1"
      ],
      "metadata": {
        "colab": {
          "base_uri": "https://localhost:8080/"
        },
        "id": "jm3V4iA_6ihq",
        "outputId": "71c268fd-d55a-416d-bc4e-924c1c19a135"
      },
      "execution_count": null,
      "outputs": [
        {
          "output_type": "stream",
          "name": "stdout",
          "text": [
            "         *\n",
            "        **\n",
            "       ***\n",
            "      ****\n",
            "     *****\n",
            "    ******\n",
            "   *******\n",
            "  ********\n",
            " *********\n",
            "**********\n"
          ]
        }
      ]
    },
    {
      "cell_type": "code",
      "source": [
        "n = 16\n",
        "v1 = n\n",
        "j = 0\n",
        "for i in range(1,n+1):\n",
        "  # a = ' '.join([str(j) for j in range(1,i+1)])\n",
        "  b = ' '.join([str(j) for j in list(range(1,i+1))[::-1]])\n",
        "  b1 = ''.join(' '*(v1-1)+b)\n",
        "  print(b1)\n",
        "  # print(a+((n*2)-2-j)*' '+' '+b1)\n",
        "  j+=2\n",
        "  v1-=1\n"
      ],
      "metadata": {
        "colab": {
          "base_uri": "https://localhost:8080/"
        },
        "id": "sF8lkLb6BXVw",
        "outputId": "1757460e-d823-4959-a2ea-995b59b4364c"
      },
      "execution_count": null,
      "outputs": [
        {
          "output_type": "stream",
          "name": "stdout",
          "text": [
            "               1\n",
            "              2 1\n",
            "             3 2 1\n",
            "            4 3 2 1\n",
            "           5 4 3 2 1\n",
            "          6 5 4 3 2 1\n",
            "         7 6 5 4 3 2 1\n",
            "        8 7 6 5 4 3 2 1\n",
            "       9 8 7 6 5 4 3 2 1\n",
            "      10 9 8 7 6 5 4 3 2 1\n",
            "     11 10 9 8 7 6 5 4 3 2 1\n",
            "    12 11 10 9 8 7 6 5 4 3 2 1\n",
            "   13 12 11 10 9 8 7 6 5 4 3 2 1\n",
            "  14 13 12 11 10 9 8 7 6 5 4 3 2 1\n",
            " 15 14 13 12 11 10 9 8 7 6 5 4 3 2 1\n",
            "16 15 14 13 12 11 10 9 8 7 6 5 4 3 2 1\n"
          ]
        }
      ]
    },
    {
      "cell_type": "code",
      "source": [
        "1                                                             1\n",
        "1 2                                                         2 1\n",
        "1 2 3                                                     3 2 1\n",
        "1 2 3 4                                                 4 3 2 1\n",
        "1 2 3 4 5                                             5 4 3 2 1\n",
        "1 2 3 4 5 6                                         6 5 4 3 2 1\n",
        "1 2 3 4 5 6 7                                     7 6 5 4 3 2 1\n",
        "1 2 3 4 5 6 7 8                                 8 7 6 5 4 3 2 1\n",
        "1 2 3 4 5 6 7 8 9                             9 8 7 6 5 4 3 2 1\n",
        "1 2 3 4 5 6 7 8 9 10                         10 9 8 7 6 5 4 3 2 1\n",
        "1 2 3 4 5 6 7 8 9 10 11                     11 10 9 8 7 6 5 4 3 2 1\n",
        "1 2 3 4 5 6 7 8 9 10 11 12                 12 11 10 9 8 7 6 5 4 3 2 1\n",
        "1 2 3 4 5 6 7 8 9 10 11 12 13             13 12 11 10 9 8 7 6 5 4 3 2 1\n",
        "1 2 3 4 5 6 7 8 9 10 11 12 13 14         14 13 12 11 10 9 8 7 6 5 4 3 2 1\n",
        "1 2 3 4 5 6 7 8 9 10 11 12 13 14 15     15 14 13 12 11 10 9 8 7 6 5 4 3 2 1\n",
        "1 2 3 4 5 6 7 8 9 10 11 12 13 14 15 16 16 15 14 13 12 11 10 9 8 7 6 5 4 3 2 1\n"
      ],
      "metadata": {
        "id": "xWNwlViQIF-y"
      },
      "execution_count": null,
      "outputs": []
    },
    {
      "cell_type": "code",
      "source": [
        "n = 10\n",
        "j = 1\n",
        "for i in range(1,n+1):\n",
        "  print(    ' '*((n-j)+n)   +  (i *'*')  )\n",
        "  j = j+1"
      ],
      "metadata": {
        "colab": {
          "base_uri": "https://localhost:8080/"
        },
        "id": "-tEl1pNbBaol",
        "outputId": "4b77c56c-d727-4884-cd94-bcac18c0c6b2"
      },
      "execution_count": null,
      "outputs": [
        {
          "output_type": "stream",
          "name": "stdout",
          "text": [
            "                   *\n",
            "                  **\n",
            "                 ***\n",
            "                ****\n",
            "               *****\n",
            "              ******\n",
            "             *******\n",
            "            ********\n",
            "           *********\n",
            "          **********\n"
          ]
        }
      ]
    },
    {
      "cell_type": "code",
      "source": [
        "n = 16\n",
        "j = 2\n",
        "for i in range(1,n+1):\n",
        "  print(' '.join(i*'*' +' ' +' '*((n*2-j))   +  (i *'*')))\n",
        "  j = j + 2"
      ],
      "metadata": {
        "id": "qzrGVSmiETvS",
        "colab": {
          "base_uri": "https://localhost:8080/"
        },
        "outputId": "592f409e-b7ef-4187-ad10-ef7b41dda17b"
      },
      "execution_count": null,
      "outputs": [
        {
          "output_type": "stream",
          "name": "stdout",
          "text": [
            "*                                                               *\n",
            "* *                                                           * *\n",
            "* * *                                                       * * *\n",
            "* * * *                                                   * * * *\n",
            "* * * * *                                               * * * * *\n",
            "* * * * * *                                           * * * * * *\n",
            "* * * * * * *                                       * * * * * * *\n",
            "* * * * * * * *                                   * * * * * * * *\n",
            "* * * * * * * * *                               * * * * * * * * *\n",
            "* * * * * * * * * *                           * * * * * * * * * *\n",
            "* * * * * * * * * * *                       * * * * * * * * * * *\n",
            "* * * * * * * * * * * *                   * * * * * * * * * * * *\n",
            "* * * * * * * * * * * * *               * * * * * * * * * * * * *\n",
            "* * * * * * * * * * * * * *           * * * * * * * * * * * * * *\n",
            "* * * * * * * * * * * * * * *       * * * * * * * * * * * * * * *\n",
            "* * * * * * * * * * * * * * * *   * * * * * * * * * * * * * * * *\n"
          ]
        }
      ]
    },
    {
      "cell_type": "code",
      "source": [
        "n = 16\n",
        "j = 2\n",
        "for i in range(1,n+1):\n",
        "  print(' '.join(i*'*' +' ' +' '*((n*2-j))   +  (i *'*')))\n",
        "  j = j + 2"
      ],
      "metadata": {
        "colab": {
          "base_uri": "https://localhost:8080/"
        },
        "id": "STZyVSs72TfW",
        "outputId": "d38c50b5-b09e-4016-b12d-79ffd69ed52a"
      },
      "execution_count": null,
      "outputs": [
        {
          "output_type": "stream",
          "name": "stdout",
          "text": [
            "*                                                               *\n",
            "* *                                                           * *\n",
            "* * *                                                       * * *\n",
            "* * * *                                                   * * * *\n",
            "* * * * *                                               * * * * *\n",
            "* * * * * *                                           * * * * * *\n",
            "* * * * * * *                                       * * * * * * *\n",
            "* * * * * * * *                                   * * * * * * * *\n",
            "* * * * * * * * *                               * * * * * * * * *\n",
            "* * * * * * * * * *                           * * * * * * * * * *\n",
            "* * * * * * * * * * *                       * * * * * * * * * * *\n",
            "* * * * * * * * * * * *                   * * * * * * * * * * * *\n",
            "* * * * * * * * * * * * *               * * * * * * * * * * * * *\n",
            "* * * * * * * * * * * * * *           * * * * * * * * * * * * * *\n",
            "* * * * * * * * * * * * * * *       * * * * * * * * * * * * * * *\n",
            "* * * * * * * * * * * * * * * *   * * * * * * * * * * * * * * * *\n"
          ]
        }
      ]
    },
    {
      "cell_type": "code",
      "source": [
        "n = 10\n",
        "j = 1\n",
        "for i in range(1,n+1):\n",
        "  v = ''.join([str(j) for j in range(1,i+1)])\n",
        "  print((' '*((n-j)+n))+v)\n",
        "  j = j +1"
      ],
      "metadata": {
        "colab": {
          "base_uri": "https://localhost:8080/"
        },
        "id": "tDMJ-vNA2VUR",
        "outputId": "f2851734-17f2-40a5-e096-00c3443551d2"
      },
      "execution_count": null,
      "outputs": [
        {
          "output_type": "stream",
          "name": "stdout",
          "text": [
            "                   1\n",
            "                  12\n",
            "                 123\n",
            "                1234\n",
            "               12345\n",
            "              123456\n",
            "             1234567\n",
            "            12345678\n",
            "           123456789\n",
            "          12345678910\n"
          ]
        }
      ]
    },
    {
      "cell_type": "code",
      "source": [
        "# right  solution\n",
        "\n",
        "n = 10\n",
        "j = 1\n",
        "for i in range(1,n+1):\n",
        "  v = ([str(j) for j in range(1,i+1)])\n",
        "  v1 = ([str(j) for j in list(range(1,i+1))[::-1]])\n",
        "  print(' '.join(v +list(' '*((n*2-j)))   +  (v1)))\n",
        "  j = j+2\n"
      ],
      "metadata": {
        "colab": {
          "base_uri": "https://localhost:8080/"
        },
        "id": "WI4KZww983kY",
        "outputId": "485d091b-e2a4-40c6-bf1f-45442716f1af"
      },
      "execution_count": null,
      "outputs": [
        {
          "output_type": "stream",
          "name": "stdout",
          "text": [
            "1                                       1\n",
            "1 2                                   2 1\n",
            "1 2 3                               3 2 1\n",
            "1 2 3 4                           4 3 2 1\n",
            "1 2 3 4 5                       5 4 3 2 1\n",
            "1 2 3 4 5 6                   6 5 4 3 2 1\n",
            "1 2 3 4 5 6 7               7 6 5 4 3 2 1\n",
            "1 2 3 4 5 6 7 8           8 7 6 5 4 3 2 1\n",
            "1 2 3 4 5 6 7 8 9       9 8 7 6 5 4 3 2 1\n",
            "1 2 3 4 5 6 7 8 9 10   10 9 8 7 6 5 4 3 2 1\n"
          ]
        }
      ]
    },
    {
      "cell_type": "markdown",
      "source": [
        "#### Q6. Incresasing Triangle"
      ],
      "metadata": {
        "id": "D0kXRYeTBDRa"
      }
    },
    {
      "cell_type": "code",
      "source": [
        "1\n",
        "2 3\n",
        "4 5 6\n",
        "7 8 9 10"
      ],
      "metadata": {
        "id": "HwMyz9bj929I"
      },
      "execution_count": null,
      "outputs": []
    },
    {
      "cell_type": "code",
      "source": [
        "a = 1\n",
        "b = a+1\n",
        "print(a,b)\n",
        "a = b\n",
        "b = a +2\n",
        "print(a,b)\n",
        "a = b\n",
        "b = a + 3\n",
        "print(a,b)\n",
        "a = b\n",
        "b = a + 4\n",
        "print(a,b)"
      ],
      "metadata": {
        "colab": {
          "base_uri": "https://localhost:8080/"
        },
        "id": "eozF1r8ZNRo5",
        "outputId": "bdb96371-8261-403c-88db-3b83f654c150"
      },
      "execution_count": null,
      "outputs": [
        {
          "output_type": "stream",
          "name": "stdout",
          "text": [
            "1 2\n",
            "2 4\n",
            "4 7\n",
            "7 11\n"
          ]
        }
      ]
    },
    {
      "cell_type": "code",
      "source": [
        "n = 7\n",
        "a = 1\n",
        "j = 2\n",
        "b = a + 1\n",
        "while n > 0:\n",
        "  v = ' '.join([str(i) for i in range(a,b)])\n",
        "  print(v)\n",
        "  a = b\n",
        "  b = a + j\n",
        "  j = j+1\n",
        "  n = n -1"
      ],
      "metadata": {
        "colab": {
          "base_uri": "https://localhost:8080/"
        },
        "id": "R124fQ-dBPJA",
        "outputId": "7ee3808d-a0b0-418e-835b-ec8e3a1ae554"
      },
      "execution_count": null,
      "outputs": [
        {
          "output_type": "stream",
          "name": "stdout",
          "text": [
            "1\n",
            "2 3\n",
            "4 5 6\n",
            "7 8 9 10\n",
            "11 12 13 14 15\n",
            "16 17 18 19 20 21\n",
            "22 23 24 25 26 27 28\n"
          ]
        }
      ]
    },
    {
      "cell_type": "code",
      "source": [
        "print(' '.join([str(i) for i in range(1,1+1)]))\n",
        "print(' '.join([str(i) for i in range(2,2+2)]))\n",
        "print(' '.join([str(i) for i in range(4,4+3)]))\n",
        "print(' '.join([str(i) for i in range(7,7+4)]))\n",
        "print(' '.join([str(i) for i in range(11,11+5)]))\n",
        "print(' '.join([str(i) for i in range(16,16+6)]))\n",
        "print(' '.join([str(i) for i in range(22,22+7)]))"
      ],
      "metadata": {
        "colab": {
          "base_uri": "https://localhost:8080/"
        },
        "id": "69OhYrKwBwAf",
        "outputId": "01d92c68-d7d9-4f53-88ed-8792ec66dc11"
      },
      "execution_count": null,
      "outputs": [
        {
          "output_type": "stream",
          "name": "stdout",
          "text": [
            "1\n",
            "2 3\n",
            "4 5 6\n",
            "7 8 9 10\n",
            "11 12 13 14 15\n",
            "16 17 18 19 20 21\n",
            "22 23 24 25 26 27 28\n"
          ]
        }
      ]
    },
    {
      "cell_type": "code",
      "source": [],
      "metadata": {
        "id": "npePwD76PSfz"
      },
      "execution_count": null,
      "outputs": []
    },
    {
      "cell_type": "markdown",
      "source": [
        "#### Q7. Increasing Letter Triangle"
      ],
      "metadata": {
        "id": "Ytg-ZJ5GRPoh"
      }
    },
    {
      "cell_type": "code",
      "source": [
        "n = 7\n",
        "for i in range(ord('A'),ord('A')+n):\n",
        "  v = [chr(i) for i in range(ord('A'),i+1)]\n",
        "  print(*v)"
      ],
      "metadata": {
        "colab": {
          "base_uri": "https://localhost:8080/"
        },
        "id": "9wg7eXwHRTEP",
        "outputId": "81b364c8-181c-4977-9d4f-88244f641470"
      },
      "execution_count": null,
      "outputs": [
        {
          "output_type": "stream",
          "name": "stdout",
          "text": [
            "A\n",
            "A B\n",
            "A B C\n",
            "A B C D\n",
            "A B C D E\n",
            "A B C D E F\n",
            "A B C D E F G\n"
          ]
        }
      ]
    },
    {
      "cell_type": "code",
      "source": [
        "n = 7\n",
        "for i in list(range(ord('A'),ord('A')+n))[::-1]:\n",
        "  v = [chr(i) for i in range(ord('A'),i+1)]\n",
        "  print(*v)"
      ],
      "metadata": {
        "colab": {
          "base_uri": "https://localhost:8080/"
        },
        "id": "kWreLwiSRiox",
        "outputId": "6232c315-3056-4fa0-92e1-bd0146ffd149"
      },
      "execution_count": null,
      "outputs": [
        {
          "output_type": "stream",
          "name": "stdout",
          "text": [
            "A B C D E F G\n",
            "A B C D E F\n",
            "A B C D E\n",
            "A B C D\n",
            "A B C\n",
            "A B\n",
            "A\n"
          ]
        }
      ]
    },
    {
      "cell_type": "code",
      "source": [
        "n = 7\n",
        "for i in list(range(ord('A'),ord('A')+n))[::-1]:\n",
        "  v = [chr(i) for i in range(ord('A'),i+1)]\n",
        "  print(*v)"
      ],
      "metadata": {
        "colab": {
          "base_uri": "https://localhost:8080/"
        },
        "id": "wzJC2zfOSMph",
        "outputId": "444facb1-5db7-418b-fa2b-74a5344ccadd"
      },
      "execution_count": null,
      "outputs": [
        {
          "output_type": "stream",
          "name": "stdout",
          "text": [
            "A B C D E F G\n",
            "A B C D E F\n",
            "A B C D E\n",
            "A B C D\n",
            "A B C\n",
            "A B\n",
            "A\n"
          ]
        }
      ]
    },
    {
      "cell_type": "code",
      "source": [
        "n = 7\n",
        "for i in list(range(ord('A'),ord('A')+n))[::-1]:\n",
        "  print(i)"
      ],
      "metadata": {
        "colab": {
          "base_uri": "https://localhost:8080/"
        },
        "id": "VkN2OtbsSfCU",
        "outputId": "6c03cdf0-d1e4-4da9-fde7-6975b68cd69d"
      },
      "execution_count": null,
      "outputs": [
        {
          "output_type": "stream",
          "name": "stdout",
          "text": [
            "71\n",
            "70\n",
            "69\n",
            "68\n",
            "67\n",
            "66\n",
            "65\n"
          ]
        }
      ]
    },
    {
      "cell_type": "code",
      "source": [
        "n = 5\n",
        "i = 1\n",
        "m= n\n",
        "while m > 0:\n",
        "  print(f\"{(n-1)*' '}{(i)*'*'}{(n-1)*' '}\")\n",
        "  i = i+2\n",
        "  n = n-1\n",
        "  m=m-1"
      ],
      "metadata": {
        "id": "pWspPRXjSiPn"
      },
      "execution_count": null,
      "outputs": []
    },
    {
      "cell_type": "code",
      "source": [
        "    A\n",
        "   ABA\n",
        "  ABCBA\n",
        " ABCDCBA\n",
        "ABCDEDECBA"
      ],
      "metadata": {
        "id": "AE6JLd2yfYUB"
      },
      "execution_count": null,
      "outputs": []
    },
    {
      "cell_type": "code",
      "source": [
        "    5\n",
        "   565\n",
        "  56765\n",
        " 5678765\n",
        "567898765"
      ],
      "metadata": {
        "colab": {
          "base_uri": "https://localhost:8080/"
        },
        "id": "VFjrhA-ygoX1",
        "outputId": "3195808a-701e-46a2-9bd4-e43405d543bd"
      },
      "execution_count": null,
      "outputs": [
        {
          "output_type": "execute_result",
          "data": {
            "text/plain": [
              "65"
            ]
          },
          "metadata": {},
          "execution_count": 112
        }
      ]
    },
    {
      "cell_type": "code",
      "source": [
        "\n",
        "\n",
        "print(((n-1)*' ')+ ''.join([chr(i) for i in range(ord('A'),ord('A')+0)]) + ''.join([chr(i) for i in range(ord('A'),ord('A')+1)]) + ''.join([chr(i) for i in range(ord('A'),ord('A')+0)][::-1])   +((n-1)*' '))\n",
        "print(((n-2)*' ')+ ''.join([chr(i) for i in range(ord('A'),ord('A')+1)]) + ''.join([chr(i) for i in range(ord('A')+1,ord('A')+2)]) + ''.join([chr(i) for i in range(ord('A'),ord('A')+1)][::-1])   +((n-2)*' '))\n",
        "print(((n-3)*' ')+ ''.join([chr(i) for i in range(ord('A'),ord('A')+2)]) + ''.join([chr(i) for i in range(ord('A')+2,ord('A')+3)]) + ''.join([chr(i) for i in range(ord('A'),ord('A')+2)][::-1])   +((n-3)*' '))\n",
        "print(((n-4)*' ')+ ''.join([chr(i) for i in range(ord('A'),ord('A')+3)]) + ''.join([chr(i) for i in range(ord('A')+3,ord('A')+4)]) + ''.join([chr(i) for i in range(ord('A'),ord('A')+3)][::-1])   +((n-4)*' '))\n",
        "print(((n-5)*' ')+ ''.join([chr(i) for i in range(ord('A'),ord('A')+4)]) + ''.join([chr(i) for i in range(ord('A')+4,ord('A')+5)]) + ''.join([chr(i) for i in range(ord('A'),ord('A')+4)][::-1])   +((n-5)*' '))\n"
      ],
      "metadata": {
        "colab": {
          "base_uri": "https://localhost:8080/"
        },
        "id": "No22VbVUgqNg",
        "outputId": "1099e588-29e2-4ca1-eb30-e4ac48a26959"
      },
      "execution_count": null,
      "outputs": [
        {
          "output_type": "stream",
          "name": "stdout",
          "text": [
            "    A    \n",
            "   ABA   \n",
            "  ABCBA  \n",
            " ABCDCBA \n",
            "ABCDEDCBA\n"
          ]
        }
      ]
    },
    {
      "cell_type": "code",
      "source": [
        "def createleft_right(x,l=True):\n",
        "  if l:\n",
        "    return ''.join([chr(i) for i in range(ord('A'),ord('A')+x)])\n",
        "  else:\n",
        "    return ''.join([chr(i) for i in range(ord('A'),ord('A')+x)][::-1])\n",
        "def middle(x):\n",
        "   return ''.join([chr(i) for i in range(ord('A')+x-1,ord('A')+x)])"
      ],
      "metadata": {
        "id": "X1ehbWIJjoZi"
      },
      "execution_count": null,
      "outputs": []
    },
    {
      "cell_type": "code",
      "source": [
        "n = 7\n",
        "def createleft_right(x,l=True):\n",
        "    if l:\n",
        "        return ''.join([chr(i) for i in range(ord('A'),ord('A')+x)])\n",
        "    else:\n",
        "        return ''.join([chr(i) for i in range(ord('A'),ord('A')+x)][::-1])\n",
        "def middle(x):\n",
        "    return ''.join([chr(i) for i in range(ord('A')+x-1,ord('A')+x)])\n",
        "\n",
        "for i in range(1,1+n):\n",
        "    print(' '.join(((n-i)*' ')+ createleft_right(i-1) + middle(i) + createleft_right(i-1,False)   +((n-i)*' ')))\n"
      ],
      "metadata": {
        "colab": {
          "base_uri": "https://localhost:8080/"
        },
        "id": "rBjRkeKYkwQh",
        "outputId": "9b6343b8-3c77-4099-a957-370ba7e420db"
      },
      "execution_count": null,
      "outputs": [
        {
          "output_type": "stream",
          "name": "stdout",
          "text": [
            "            A            \n",
            "          A B A          \n",
            "        A B C B A        \n",
            "      A B C D C B A      \n",
            "    A B C D E D C B A    \n",
            "  A B C D E F E D C B A  \n",
            "A B C D E F G F E D C B A\n"
          ]
        }
      ]
    },
    {
      "cell_type": "code",
      "source": [
        "print(((n-1)*' ')+ createleft_right(0) + middle(1) + createleft_right(0,False)   +((n-1)*' '))\n",
        "print(((n-2)*' ')+ createleft_right(1) + middle(2) + createleft_right(2,False)   +((n-2)*' '))\n",
        "print(((n-3)*' ')+ createleft_right(2) + middle(3) + createleft_right(3,False)   +((n-3)*' '))\n",
        "print(((n-4)*' ')+ createleft_right(3) + middle(4) + createleft_right(4,False)   +((n-4)*' '))\n",
        "print(((n-5)*' ')+ createleft_right(4) + middle(5) + createleft_right(5,False)   +((n-5)*' '))\n"
      ],
      "metadata": {
        "colab": {
          "base_uri": "https://localhost:8080/"
        },
        "id": "mR3V4LRkhMM5",
        "outputId": "6b56be57-a3a6-4bce-d85c-88fad45b3399"
      },
      "execution_count": null,
      "outputs": [
        {
          "output_type": "stream",
          "name": "stdout",
          "text": [
            "    A    \n",
            "   ABBA   \n",
            "  ABCCBA  \n",
            " ABCDDCBA \n",
            "ABCDEEDCBA\n"
          ]
        }
      ]
    },
    {
      "cell_type": "code",
      "source": [
        "n = 5\n",
        "c = 1\n",
        "for i in range(ord('A'),ord('A')+n):\n",
        "  dd = (c*2-1)\n",
        "  d = dd//2\n",
        "  e = dd-d\n",
        "  v1 = ''.join([chr(j) for j in range(ord('A'),(ord('A')+d))])\n",
        "  v2 = ''.join([chr(j) for j in range(ord('A'),(ord('A')+e))][::-1])\n",
        "  s = (' '*(n-c))\n",
        "  print(' '.join(s+v1+v2+s))\n",
        "  c+=1\n"
      ],
      "metadata": {
        "colab": {
          "base_uri": "https://localhost:8080/"
        },
        "id": "-axIZXLlln1Y",
        "outputId": "b5a916c6-6647-4dcd-d5e6-47364df13d55"
      },
      "execution_count": null,
      "outputs": [
        {
          "output_type": "stream",
          "name": "stdout",
          "text": [
            "        A        \n",
            "      A B A      \n",
            "    A B C B A    \n",
            "  A B C D C B A  \n",
            "A B C D E D C B A\n"
          ]
        }
      ]
    },
    {
      "cell_type": "code",
      "source": [
        "c = 1\n",
        "d = (c*2-1)\n",
        "print(d)\n",
        "e = d-(d//2)\n",
        "print(e)"
      ],
      "metadata": {
        "colab": {
          "base_uri": "https://localhost:8080/"
        },
        "id": "TTMWvNHKo2WN",
        "outputId": "d48361ce-226a-4327-fe27-dbc8f382ebdc"
      },
      "execution_count": null,
      "outputs": [
        {
          "output_type": "stream",
          "name": "stdout",
          "text": [
            "1\n",
            "1\n"
          ]
        }
      ]
    },
    {
      "cell_type": "code",
      "source": [
        "n = 5\n",
        "c = 1\n",
        "for i in range(1,n+1)[::-1]:\n",
        "  v = ' '.join([str(i) for i in range(i,i+c)])\n",
        "  print(v)\n",
        "  c+=1"
      ],
      "metadata": {
        "colab": {
          "base_uri": "https://localhost:8080/"
        },
        "id": "8-K6Vs7gt6Do",
        "outputId": "1bb42b1e-0b8c-479c-b4a9-f628fec316b6"
      },
      "execution_count": null,
      "outputs": [
        {
          "output_type": "stream",
          "name": "stdout",
          "text": [
            "5\n",
            "4 5\n",
            "3 4 5\n",
            "2 3 4 5\n",
            "1 2 3 4 5\n"
          ]
        }
      ]
    },
    {
      "cell_type": "code",
      "source": [
        "n = 3\n",
        "c = 1\n",
        "for i in range(ord('A'),ord('A')+n)[::-1]:\n",
        "  v = ' '.join([str(chr(i)) for i in range(i,i+c)][::-1])\n",
        "  print(v)\n",
        "  c+=1"
      ],
      "metadata": {
        "colab": {
          "base_uri": "https://localhost:8080/"
        },
        "id": "2-XbFQUVx6gG",
        "outputId": "0b160e35-f17e-46f0-f762-2582324449d1"
      },
      "execution_count": null,
      "outputs": [
        {
          "output_type": "stream",
          "name": "stdout",
          "text": [
            "C\n",
            "C B\n",
            "C B A\n"
          ]
        }
      ]
    },
    {
      "cell_type": "code",
      "source": [
        "n = 3\n",
        "m = 0\n",
        "for i in range(1,n+1)[::-1]:\n",
        "  print(*(i*'*')+(m*' ')+(i*'*'))\n",
        "  m +=2\n",
        "m = n\n",
        "for i in range(1,n+1):\n",
        "  print(*(i*'*')+(((m-1)*2)*' ')+(i*'*'))\n",
        "  m -=1"
      ],
      "metadata": {
        "colab": {
          "base_uri": "https://localhost:8080/"
        },
        "id": "zlGDO5hTzKAl",
        "outputId": "89d6d36a-6c44-4316-99e2-39aaa48d6fb2"
      },
      "execution_count": null,
      "outputs": [
        {
          "output_type": "stream",
          "name": "stdout",
          "text": [
            "* * * * * *\n",
            "* *     * *\n",
            "*         *\n",
            "*         *\n",
            "* *     * *\n",
            "* * * * * *\n"
          ]
        }
      ]
    },
    {
      "cell_type": "code",
      "source": [
        "n = 3\n",
        "m = 0\n",
        "for i in range(1,n+1)[::-1]:\n",
        "  print(' '.join((i*'*')+(m*' ')+(i*'*')))\n",
        "  m +=2\n",
        "m = n\n",
        "for i in range(1,n+1):\n",
        "  print(' '.join((i*'*')+(((m-1)*2)*' ')+(i*'*')))\n",
        "  m -=1"
      ],
      "metadata": {
        "colab": {
          "base_uri": "https://localhost:8080/"
        },
        "id": "rsKA8Z2p3j4X",
        "outputId": "b3c09b2d-9de7-4fd6-b9ea-7d7f5df53799"
      },
      "execution_count": null,
      "outputs": [
        {
          "output_type": "stream",
          "name": "stdout",
          "text": [
            "* * * * * *\n",
            "* *     * *\n",
            "*         *\n",
            "*         *\n",
            "* *     * *\n",
            "* * * * * *\n"
          ]
        }
      ]
    },
    {
      "cell_type": "code",
      "source": [
        "n = 6\n",
        "v1 = ([i*'*' for i in range(1,n)[::-1]])"
      ],
      "metadata": {
        "id": "vyiIO83R0X8-"
      },
      "execution_count": null,
      "outputs": []
    },
    {
      "cell_type": "code",
      "source": [
        "len('************')"
      ],
      "metadata": {
        "colab": {
          "base_uri": "https://localhost:8080/"
        },
        "id": "iWXwfxWA1Ggr",
        "outputId": "de65d1bc-2abb-4d46-df6a-baea902112b8"
      },
      "execution_count": null,
      "outputs": [
        {
          "output_type": "execute_result",
          "data": {
            "text/plain": [
              "12"
            ]
          },
          "metadata": {},
          "execution_count": 200
        }
      ]
    },
    {
      "cell_type": "code",
      "source": [
        "m = n\n",
        "for i in range(1,n+1):\n",
        "  print((i*'*')+(((m*2)-1)*' ')+(i*'*'))\n",
        "  m -=1"
      ],
      "metadata": {
        "colab": {
          "base_uri": "https://localhost:8080/"
        },
        "id": "ZzD98yws1H8D",
        "outputId": "eef8f80b-8bd0-4ebb-8e14-8fd75c8b22be"
      },
      "execution_count": null,
      "outputs": [
        {
          "output_type": "stream",
          "name": "stdout",
          "text": [
            "*           *\n",
            "**         **\n",
            "***       ***\n",
            "****     ****\n",
            "*****   *****\n",
            "****** ******\n"
          ]
        }
      ]
    },
    {
      "cell_type": "code",
      "source": [
        "print(' '.join('. -   -'))\n",
        "print(*'. -   -')"
      ],
      "metadata": {
        "colab": {
          "base_uri": "https://localhost:8080/"
        },
        "id": "2CQAL1j81oHu",
        "outputId": "0a2077d8-728e-4992-a5cb-b2c90fcfb339"
      },
      "execution_count": null,
      "outputs": [
        {
          "output_type": "stream",
          "name": "stdout",
          "text": [
            ".   -       -\n",
            ".   -       -\n"
          ]
        }
      ]
    },
    {
      "cell_type": "code",
      "source": [],
      "metadata": {
        "id": "uJfVhAvQ3WhS"
      },
      "execution_count": null,
      "outputs": []
    }
  ]
}