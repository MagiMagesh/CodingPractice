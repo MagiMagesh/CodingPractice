{
  "nbformat": 4,
  "nbformat_minor": 0,
  "metadata": {
    "colab": {
      "provenance": []
    },
    "kernelspec": {
      "name": "python3",
      "display_name": "Python 3"
    },
    "language_info": {
      "name": "python"
    }
  },
  "cells": [
    {
      "cell_type": "markdown",
      "source": [
        "### SORTING TECHNIQUE:"
      ],
      "metadata": {
        "id": "z98du4Wz3rBZ"
      }
    },
    {
      "cell_type": "markdown",
      "source": [
        "#### SELECTION SORT:"
      ],
      "metadata": {
        "id": "J9F22Kza3pnm"
      }
    },
    {
      "cell_type": "code",
      "source": [
        "# select minimun & sort"
      ],
      "metadata": {
        "id": "VSAPwEJQiija"
      },
      "execution_count": null,
      "outputs": []
    },
    {
      "cell_type": "code",
      "source": [
        "arr = [4, 1 ,3 ,9, 7]\n",
        "for i in range(len(arr)):\n",
        "  for j in range(i+1,len(arr)):\n",
        "      if arr[j] < arr[i]:\n",
        "          v = arr[i]\n",
        "          arr[i] = arr[j]\n",
        "          arr[j] = v\n",
        "arr\n"
      ],
      "metadata": {
        "colab": {
          "base_uri": "https://localhost:8080/"
        },
        "id": "HZWf_1rF8um1",
        "outputId": "41aa114f-e25c-420a-9b57-35480402f10a"
      },
      "execution_count": null,
      "outputs": [
        {
          "output_type": "execute_result",
          "data": {
            "text/plain": [
              "[1, 3, 4, 7, 9]"
            ]
          },
          "metadata": {},
          "execution_count": 56
        }
      ]
    },
    {
      "cell_type": "code",
      "source": [],
      "metadata": {
        "id": "QoNbJN9u3xZw"
      },
      "execution_count": null,
      "outputs": []
    },
    {
      "cell_type": "markdown",
      "source": [
        "#### BUBBLE SORT:"
      ],
      "metadata": {
        "id": "SjOuhctH3xo2"
      }
    },
    {
      "cell_type": "code",
      "source": [
        "arr = [17,26,18,6,56,82]\n",
        "\n",
        "[17,18,6,26,56,82]"
      ],
      "metadata": {
        "id": "pnGMZczijU8J"
      },
      "execution_count": null,
      "outputs": []
    },
    {
      "cell_type": "code",
      "source": [
        "arr = [4, 1 ,3 ,9, 7]\n",
        "arr = [2 ,1 ,0, 2, 1 ,0 ,0, 2,]\n",
        "arr\n",
        "for i in range(len(arr)):\n",
        "  for j in range(len(arr)-(i+1)):\n",
        "    if arr[j] > arr[j+1]:\n",
        "      arr[j],arr[j+1] = arr[j+1],arr[j]\n",
        "arr"
      ],
      "metadata": {
        "colab": {
          "base_uri": "https://localhost:8080/"
        },
        "id": "wlEVm95PBzsY",
        "outputId": "4f36f314-3f52-467d-c54f-b34fc17204a6"
      },
      "execution_count": null,
      "outputs": [
        {
          "output_type": "execute_result",
          "data": {
            "text/plain": [
              "[0, 0, 0, 1, 1, 2, 2, 2]"
            ]
          },
          "metadata": {},
          "execution_count": 60
        }
      ]
    },
    {
      "cell_type": "code",
      "source": [],
      "metadata": {
        "id": "JtQWLwJNB7Go"
      },
      "execution_count": null,
      "outputs": []
    },
    {
      "cell_type": "markdown",
      "source": [
        "#### INSERTION SORT:"
      ],
      "metadata": {
        "id": "ZAW3Un5_52vK"
      }
    },
    {
      "cell_type": "code",
      "source": [
        "arr = [4, 1 ,3 ,9, 7]\n",
        "for i in range(len(arr)):\n",
        "  for j in range(0,i+1):\n",
        "    if arr[j]> arr[i]:\n",
        "      arr[i],arr[j] = arr[j],arr[i]\n",
        "arr"
      ],
      "metadata": {
        "colab": {
          "base_uri": "https://localhost:8080/"
        },
        "id": "Bloked6h54Nc",
        "outputId": "fbfd2c78-db23-4e69-eafe-8e0c8d15217b"
      },
      "execution_count": null,
      "outputs": [
        {
          "output_type": "execute_result",
          "data": {
            "text/plain": [
              "[1, 3, 4, 7, 9]"
            ]
          },
          "metadata": {},
          "execution_count": 59
        }
      ]
    },
    {
      "cell_type": "markdown",
      "source": [
        "#### MERGE SORT:"
      ],
      "metadata": {
        "id": "QVnaRnCkKGMK"
      }
    },
    {
      "cell_type": "code",
      "source": [
        "arr = [4, 1 ,3 ,9, 7]\n",
        "def"
      ],
      "metadata": {
        "id": "3PhUT02OKJoq"
      },
      "execution_count": null,
      "outputs": []
    },
    {
      "cell_type": "code",
      "source": [
        "st = '0000'\n",
        "s = st[0]\n",
        "print('the start is',s)\n",
        "count = 0\n",
        "if s == '0':\n",
        "  for i in range(len(s)):\n",
        "    if i%2==0:\n",
        "      if s[i]=='0':\n",
        "        pass\n",
        "      else:\n",
        "        count+=1\n",
        "    if i%2==1:\n",
        "      if s[i]=='1':\n",
        "        pass\n",
        "      else:\n",
        "        count+=1\n",
        "\n",
        "\n",
        "if s == '1':\n",
        "  for i in range(len(s)):\n",
        "    if i%2==0:\n",
        "      if s[i]=='1':\n",
        "        pass\n",
        "      else:\n",
        "        count+=1\n",
        "    if i%2==1:\n",
        "      if s[i]=='0':\n",
        "        pass\n",
        "      else:\n",
        "        count+=1\n",
        "count"
      ],
      "metadata": {
        "colab": {
          "base_uri": "https://localhost:8080/"
        },
        "id": "5BxkT11Z66uO",
        "outputId": "16c68cd7-b21f-4290-c1d5-a4bcb9d1e46e"
      },
      "execution_count": null,
      "outputs": [
        {
          "output_type": "stream",
          "name": "stdout",
          "text": [
            "the start is 0\n"
          ]
        },
        {
          "output_type": "execute_result",
          "data": {
            "text/plain": [
              "0"
            ]
          },
          "metadata": {},
          "execution_count": 67
        }
      ]
    },
    {
      "cell_type": "code",
      "source": [
        "s = 'A1b22Ba'\n",
        "v = range(ord('A'),ord('z')+1)\n",
        "v1 = range(ord('1'),ord('9')+1)\n",
        "x = ''\n",
        "a = 'No'\n",
        "\n",
        "for i in s:\n",
        "  if ord(i) in v or ord(i) in v1:\n",
        "    x+=i.lower()\n",
        "print(x)\n",
        "if x[::-1] == x:\n",
        "  a = 'Yes'\n",
        "a"
      ],
      "metadata": {
        "colab": {
          "base_uri": "https://localhost:8080/",
          "height": 53
        },
        "id": "AQdCfUtPDIxv",
        "outputId": "226715c8-bf6a-4357-8b68-ceecec31bcc2"
      },
      "execution_count": null,
      "outputs": [
        {
          "output_type": "stream",
          "name": "stdout",
          "text": [
            "a1b22ba\n"
          ]
        },
        {
          "output_type": "execute_result",
          "data": {
            "text/plain": [
              "'No'"
            ],
            "application/vnd.google.colaboratory.intrinsic+json": {
              "type": "string"
            }
          },
          "metadata": {},
          "execution_count": 79
        }
      ]
    }
  ]
}