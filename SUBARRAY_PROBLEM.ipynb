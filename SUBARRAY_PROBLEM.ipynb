{
  "nbformat": 4,
  "nbformat_minor": 0,
  "metadata": {
    "colab": {
      "provenance": [],
      "authorship_tag": "ABX9TyMrrJG/Wg4GkpKRbWdI0WNi",
      "include_colab_link": true
    },
    "kernelspec": {
      "name": "python3",
      "display_name": "Python 3"
    },
    "language_info": {
      "name": "python"
    }
  },
  "cells": [
    {
      "cell_type": "markdown",
      "metadata": {
        "id": "view-in-github",
        "colab_type": "text"
      },
      "source": [
        "<a href=\"https://colab.research.google.com/github/MagiMagesh/CodingPractice/blob/practice1/SUBARRAY_PROBLEM.ipynb\" target=\"_parent\"><img src=\"https://colab.research.google.com/assets/colab-badge.svg\" alt=\"Open In Colab\"/></a>"
      ]
    },
    {
      "cell_type": "code",
      "execution_count": null,
      "metadata": {
        "id": "Eg8NhQYIHw8s"
      },
      "outputs": [],
      "source": []
    },
    {
      "cell_type": "markdown",
      "source": [
        "#### LONGEST SUBARRAY"
      ],
      "metadata": {
        "id": "mttGHL3kH6Fn"
      }
    },
    {
      "cell_type": "code",
      "source": [
        "'''by using 3 nested loops'''\n",
        "\n",
        "\n",
        "arr = [1,2,3,1,1,1,1,1,4,2,3]\n",
        "    #  0 1 2 3 4 5 6 7 8 9 .\n",
        "# (1,3)\n",
        "# (2,5)\n",
        "# (3,8)\n",
        "# (7,9)\n",
        "# (9,11)\n",
        "k1 = 5\n",
        "maxi = 0\n",
        "for i in range(len(arr)):\n",
        "  for k in range(i+1,len(arr)):\n",
        "    add = sum([arr[i] for i in range(i,k)])\n",
        "    # print((i,k))\n",
        "    # print(add)\n",
        "    if add == k1:\n",
        "      # print(add)\n",
        "      # print('inside',(i,k))\n",
        "      if (k-i) > maxi:\n",
        "        maxi = k-i\n",
        "    if add > k1:\n",
        "      break\n",
        "    # if s == k:\n",
        "    #   print('len of sub array',k-i+1)\n",
        "maxi #  ----- the output is correct"
      ],
      "metadata": {
        "colab": {
          "base_uri": "https://localhost:8080/"
        },
        "id": "jfCJy5_-H-qW",
        "outputId": "bfd9310a-bd2b-4b2e-9862-53a2206b1a2f"
      },
      "execution_count": null,
      "outputs": [
        {
          "output_type": "execute_result",
          "data": {
            "text/plain": [
              "5"
            ]
          },
          "metadata": {},
          "execution_count": 43
        }
      ]
    },
    {
      "cell_type": "code",
      "source": [
        "'''by using 2 nested loops'''\n",
        "\n",
        "arr = [1,2,3,1,1,1,1,1,4,2,3]\n",
        "\n",
        "    #  0 1 2 3 4 5 6 7 8 9 .\n",
        "arr = [2,0,0,3,1,1,0.5,0.5,-1,-1,1,1,1,1]\n",
        "\n",
        "k1 = 5\n",
        "maxi = 0\n",
        "for i in range(len(arr)):\n",
        "  add = 0\n",
        "  for j in range(i,len(arr)):\n",
        "    add+=arr[j]\n",
        "    if add == k1:\n",
        "      if (j-i+1) > maxi:\n",
        "        maxi = j-i+1\n",
        "    if add > k1:\n",
        "      break\n",
        "\n",
        "maxi #  ----- the output is correct"
      ],
      "metadata": {
        "colab": {
          "base_uri": "https://localhost:8080/"
        },
        "id": "YUVuaoFCIejc",
        "outputId": "25f30353-aef6-4b7d-8a5b-a29943737590"
      },
      "execution_count": null,
      "outputs": [
        {
          "output_type": "execute_result",
          "data": {
            "text/plain": [
              "10"
            ]
          },
          "metadata": {},
          "execution_count": 49
        }
      ]
    },
    {
      "cell_type": "code",
      "source": [
        "'''by using 2 while loops with o(2N) time complexity most optomised'''\n",
        "\n",
        "\n",
        "arr = [2,0,0,3,1,1,0.5,0.5,-1,-1,1,1]\n",
        "# arr = [2,0,0,3,1,1,0.5,0.5,-1,-1,1,1,1,1]\n",
        "k = 6\n",
        "add = 0\n",
        "left = 0\n",
        "right = 0\n",
        "length = 0\n",
        "n = len(arr)\n",
        "while (right < n):\n",
        "  while (add > k and left <=right ):\n",
        "    add-=arr[left]\n",
        "    left+=1\n",
        "  if right < n:\n",
        "    add += arr[right]\n",
        "  if add == k:\n",
        "    length = max(length,right-left+1)\n",
        "  right+=1\n",
        "\n",
        "length"
      ],
      "metadata": {
        "colab": {
          "base_uri": "https://localhost:8080/"
        },
        "id": "fEJBUqdQ2ESi",
        "outputId": "47c0247d-c886-4fe1-c104-75d40e5fbbe8"
      },
      "execution_count": null,
      "outputs": [
        {
          "output_type": "execute_result",
          "data": {
            "text/plain": [
              "11"
            ]
          },
          "metadata": {},
          "execution_count": 53
        }
      ]
    },
    {
      "cell_type": "code",
      "source": [
        "'''By using Dictionary'''\n",
        "'''Optimal solution for Only Positive Numbers'''\n",
        "\n",
        "arr = [1,2,3,1,1,1,1,1,4,2,3]\n",
        "    #  0 1 2 3 4 5 6 7 8 9 .\n",
        "\n",
        "k = 3\n",
        "d = {}\n",
        "\n",
        "s = 0\n",
        "l = 0\n",
        "for i in range(len(arr)):\n",
        "  s+=arr[i]\n",
        "  d[s] = i\n",
        "  # print(d)\n",
        "  if s == k:\n",
        "    l = max(l,i+1)\n",
        "  if d.get(s-k):\n",
        "    l = max(l,abs(d[s-k]-i))\n",
        "\n",
        "l"
      ],
      "metadata": {
        "id": "C1KPFMxKRVqo",
        "colab": {
          "base_uri": "https://localhost:8080/"
        },
        "outputId": "28b3e650-e42a-4a53-f4d4-91d7ea2c614b"
      },
      "execution_count": null,
      "outputs": [
        {
          "output_type": "execute_result",
          "data": {
            "text/plain": [
              "3"
            ]
          },
          "metadata": {},
          "execution_count": 41
        }
      ]
    },
    {
      "cell_type": "code",
      "source": [
        "'''By using Dictionary'''\n",
        "'''Optimal solution for Both Zero & Negitive Numbers'''\n",
        "\n",
        "arr = [1,2,3,1,1,1,1,1,4,2,3]\n",
        "    #  0 1 2 3 4 5 6 7 8 9 .\n",
        "arr = [2,0,0,3,1,1,0.5,0.5,-1,-1,1,1]\n",
        "    #  0 1 2 3\n",
        "k = 3\n",
        "d = {}\n",
        "\n",
        "s = 0\n",
        "l = 0\n",
        "for i in range(len(arr)):\n",
        "  s+=arr[i]\n",
        "  if not d.get(s):\n",
        "    d[s] = i\n",
        "  if int(s) == k:\n",
        "    l = max(l,i+1)\n",
        "  if d.get(int(s)-k) != None:\n",
        "    l = max(l,abs(d[int(s)-k]-i))\n",
        "\n",
        "l"
      ],
      "metadata": {
        "colab": {
          "base_uri": "https://localhost:8080/"
        },
        "id": "7ebtULDNwFE4",
        "outputId": "90cf281f-2506-4709-d995-789d845a7ee4"
      },
      "execution_count": null,
      "outputs": [
        {
          "output_type": "execute_result",
          "data": {
            "text/plain": [
              "8"
            ]
          },
          "metadata": {},
          "execution_count": 42
        }
      ]
    },
    {
      "cell_type": "code",
      "source": [
        "'''By using Dictionary'''\n",
        "'''Optimal solution for Both Zero & Negitive Numbers'''\n",
        "\n",
        "arr = [1,2,3,1,1,1,1,1,4,2,3]\n",
        "arr = [2,0,0,3,1,1,0.5,0.5,-1,-1,1,1]\n",
        "arr = [3,2,1,4]\n",
        "k = 6\n",
        "d = {}\n",
        "\n",
        "s = 0\n",
        "l = 0\n",
        "for i in range(len(arr)):\n",
        "  s+=arr[i]\n",
        "  if not d.get(s):\n",
        "    d[s] = i\n",
        "  if int(s) == k:\n",
        "    l = max(l,i+1)\n",
        "  if d.get(int(s)-k) != None:\n",
        "    l = max(l,abs(d[int(s)-k]-i))\n",
        "\n",
        "l"
      ],
      "metadata": {
        "colab": {
          "base_uri": "https://localhost:8080/"
        },
        "id": "76JF4diNFwuI",
        "outputId": "6cdf25a6-9d7d-4863-a278-8a8953a3b42a"
      },
      "execution_count": null,
      "outputs": [
        {
          "output_type": "execute_result",
          "data": {
            "text/plain": [
              "0"
            ]
          },
          "metadata": {},
          "execution_count": 60
        }
      ]
    },
    {
      "cell_type": "code",
      "source": [
        "a = [1, 3, 1, 3, 1, 3]\n",
        "a = [1, -2, 1, 1, -2, 1]\n",
        "n = len(a)\n",
        "newsum = 0\n",
        "for i in range(n):\n",
        "  s = 0\n",
        "  for j in range(i,n):\n",
        "    s+=a[j]\n",
        "    if s > newsum:\n",
        "      newsum = s\n",
        "newsum"
      ],
      "metadata": {
        "colab": {
          "base_uri": "https://localhost:8080/"
        },
        "id": "U3B9VJhlLii0",
        "outputId": "c9b42ae9-27bc-44a7-add3-6df61ffd0c07"
      },
      "execution_count": 2,
      "outputs": [
        {
          "output_type": "execute_result",
          "data": {
            "text/plain": [
              "2"
            ]
          },
          "metadata": {},
          "execution_count": 2
        }
      ]
    },
    {
      "cell_type": "code",
      "source": [],
      "metadata": {
        "colab": {
          "base_uri": "https://localhost:8080/"
        },
        "id": "_yioi947Y_Hv",
        "outputId": "901b4f22-5893-457d-88fe-a9dafdc01444"
      },
      "execution_count": 1,
      "outputs": [
        {
          "output_type": "execute_result",
          "data": {
            "text/plain": [
              "15"
            ]
          },
          "metadata": {},
          "execution_count": 1
        }
      ]
    },
    {
      "cell_type": "markdown",
      "source": [
        "#### TWO SUM PROBLEM"
      ],
      "metadata": {
        "id": "g1AUiinqMlqc"
      }
    },
    {
      "cell_type": "code",
      "source": [],
      "metadata": {
        "id": "kCnvV9Negb5s"
      },
      "execution_count": null,
      "outputs": []
    }
  ]
}